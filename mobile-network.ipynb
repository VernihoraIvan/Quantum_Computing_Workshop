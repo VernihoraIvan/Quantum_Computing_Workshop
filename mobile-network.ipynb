{
 "cells": [
  {
   "cell_type": "markdown",
   "metadata": {},
   "source": [
    "# Workshop Part 2: Solving Frequency Assignment with QUBO\n",
    "\n",
    "Now it's your turn to apply what you've learned. We will tackle a classic optimization problem with a direct application in telecommunications: **Frequency Assignment** for mobile network cells.\n",
    "\n",
    "### The Problem\n",
    "Mobile network cells that are close to each other can interfere if they use the same frequency. To prevent this, we must assign frequencies to cells such that no two adjacent cells share the same frequency. This is a classic **Graph Coloring** problem in disguise.\n",
    "\n",
    "- **Cells** are the **nodes** of our graph.\n",
    "- **Frequencies** are the **colors** we can use.\n",
    "- An **edge** exists between two nodes if their cells are close enough to interfere.\n",
    "\n",
    "Our goal is to find a valid frequency assignment for a small honeycomb network of cells."
   ]
  },
  {
   "cell_type": "markdown",
   "metadata": {},
   "source": []
  },
  {
   "cell_type": "markdown",
   "metadata": {},
   "source": [
    "## Step 1: Setup and Dependencies\n",
    "\n",
    "First, we import the necessary libraries. We'll use `matplotlib.patches` to draw our honeycomb cells."
   ]
  },
  {
   "cell_type": "code",
   "execution_count": null,
   "metadata": {},
   "outputs": [],
   "source": [
    "# Core scientific computing and plotting libraries\n",
    "import numpy as np\n",
    "import matplotlib.pyplot as plt\n",
    "from matplotlib.patches import RegularPolygon\n",
    "import networkx as nx # Still useful for managing graph data\n",
    "\n",
    "# pyqubo for building the QUBO model\n",
    "from pyqubo import Array, Constraint, Placeholder\n",
    "\n",
    "# neal for the simulated annealing solver\n",
    "import neal\n",
    "\n",
    "print(\"Libraries imported successfully!\")"
   ]
  },
  {
   "cell_type": "markdown",
   "metadata": {},
   "source": [
    "## Step 2: Problem Definition\n",
    "\n",
    "Let's define our network as a 7-cell honeycomb grid. We have 3 available frequencies (e.g., 'Channel 1', 'Channel 2', 'Channel 3')."
   ]
  },
  {
   "cell_type": "code",
   "execution_count": null,
   "metadata": {},
   "outputs": [],
   "source": [
    "# Define the cells (nodes) and available frequencies (colors)\n",
    "cells = ['A', 'B', 'C', 'D', 'E', 'F', 'G']\n",
    "frequencies = ['Red', 'Green', 'Blue'] # Using colors for visualization\n",
    "\n",
    "n_cells = len(cells)\n",
    "n_frequencies = len(frequencies)\n",
    "\n",
    "# Define the honeycomb graph structure\n",
    "# 'A' is the central cell\n",
    "edges = [\n",
    "    ('A', 'B'), ('A', 'C'), ('A', 'D'), ('A', 'E'), ('A', 'F'), ('A', 'G'),\n",
    "    ('B', 'C'), ('C', 'D'), ('D', 'E'), ('E', 'F'), ('F', 'G'), ('G', 'B')\n",
    "]\n",
    "\n",
    "# Create a graph object to hold the data\n",
    "G = nx.Graph()\n",
    "G.add_nodes_from(cells)\n",
    "G.add_edges_from(edges)\n",
    "\n",
    "print(f\"Problem defined for {n_cells} cells and {n_frequencies} frequencies.\")"
   ]
  },
  {
   "cell_type": "markdown",
   "metadata": {},
   "source": [
    "### Visualizing the Network\n",
    "\n",
    "Let's visualize the cell network. We will define the positions of the nodes to create a perfect honeycomb and then draw the hexagons using `matplotlib`."
   ]
  },
  {
   "cell_type": "code",
   "execution_count": null,
   "metadata": {},
   "outputs": [],
   "source": [
    "def get_honeycomb_pos(graph):\n",
    "    \"\"\"Calculates node positions for a 7-cell honeycomb layout.\"\"\"\n",
    "    pos = {'A': (0, 0)} # Central node\n",
    "    outer_nodes = [node for node in graph.nodes() if node != 'A']\n",
    "    for i, node_name in enumerate(outer_nodes):\n",
    "        angle = np.pi / 3 * i\n",
    "        pos[node_name] = (np.cos(angle), np.sin(angle))\n",
    "    return pos\n",
    "\n",
    "def plot_network(graph, solution=None):\n",
    "    \"\"\"Helper function to draw a honeycomb and the coloring solution.\"\"\"\n",
    "    fig, ax = plt.subplots(1, figsize=(8, 8))\n",
    "    ax.set_aspect('equal')\n",
    "    pos = get_honeycomb_pos(graph)\n",
    "\n",
    "    for node_name, center in pos.items():\n",
    "        color = solution.get(node_name, 'lightblue') if solution else 'lightblue'\n",
    "        \n",
    "        # Draw the hexagon\n",
    "        hexagon = RegularPolygon(\n",
    "            center, \n",
    "            numVertices=6, \n",
    "            radius=1 / np.sqrt(3) * 1.01, # Calculate radius for touching hexagons\n",
    "            orientation=np.pi / 6, \n",
    "            facecolor=color, \n",
    "            edgecolor='black', \n",
    "            linewidth=2.5\n",
    "        )\n",
    "        ax.add_patch(hexagon)\n",
    "        # Add the cell label\n",
    "        ax.text(center[0], center[1], node_name, ha='center', va='center', fontsize=24, color='white', weight='bold')\n",
    "\n",
    "    ax.set_xlim(-1.5, 1.5)\n",
    "    ax.set_ylim(-1.5, 1.5)\n",
    "    plt.axis('off')\n",
    "    plt.title(\"Mobile Cell Network (Honeycomb)\" if not solution else \"Frequency Assignment Solution\", fontsize=16)\n",
    "    plt.show()\n",
    "\n",
    "# Plot the initial problem\n",
    "plot_network(G)"
   ]
  },
  {
   "cell_type": "markdown",
   "metadata": {},
   "source": [
    "## Step 3: QUBO Formulation\n",
    "\n",
    "Now we translate the frequency assignment problem into a QUBO model. This involves defining our binary variables, the objective function (penalizing bad assignments), and the constraints."
   ]
  },
  {
   "cell_type": "markdown",
   "metadata": {},
   "source": [
    "### 3.1 Decision Variables\n",
    "\n",
    "We need a binary variable that decides which cell is assigned which frequency  \n",
    "\n",
    " **Your task is to create this array of variables.**"
   ]
  },
  {
   "cell_type": "code",
   "execution_count": null,
   "metadata": {},
   "outputs": [],
   "source": [
    "# --- Your code goes here --- #\n",
    "# Create a 2D array of binary variables called 'x'.\n",
    "# It should have a shape of (n_cells, n_frequencies).\n",
    "x = # ..."
   ]
  },
  {
   "cell_type": "markdown",
   "metadata": {},
   "source": [
    "### 3.2 The Objective Function\n",
    "\n",
    "Our main goal is to avoid interference. This means that for any two cells `u` and `v` that are connected by an edge, they cannot have the same frequency.\n",
    "\n",
    "**Your task is to build this objective function.**"
   ]
  },
  {
   "cell_type": "code",
   "execution_count": null,
   "metadata": {},
   "outputs": [],
   "source": [
    "# --- Your code goes here --- #\n",
    "# Create a variable 'objective_func'.\n",
    "# Loop through each edge (u_str, v_str) in G.edges().\n",
    "# Inside the loop, get the integer indices 'u' and 'v' for the cells.\n",
    "# Then, loop through each frequency 'c' from 0 to n_frequencies-1.\n",
    "# Add the product of the variables x[u, c] * x[v, c] to 'objective_func'.\n",
    "objective_func = # ..."
   ]
  },
  {
   "cell_type": "markdown",
   "metadata": {},
   "source": [
    "### 3.3 The Constraint\n",
    "\n",
    "We have one main rule that must be strictly followed:\n",
    "\n",
    "**Every cell must be assigned exactly one frequency.**\n",
    "\n",
    "\n",
    "**Your task is to build this constraint function.**"
   ]
  },
  {
   "cell_type": "code",
   "execution_count": null,
   "metadata": {},
   "outputs": [],
   "source": [
    "# Use a Placeholder for the penalty weight\n",
    "P = Placeholder(\"penalty_weight\")\n",
    "\n",
    "# --- Your code goes here --- #\n",
    "# Create a variable 'constraint_func'.\n",
    "# Loop through each cell 'v' from 0 to n_cells-1.\n",
    "# For each cell, create a Constraint where the sum of its frequency variables (x[v, c]) equals 1.\n",
    "# Add this constraint to 'constraint_func'.\n",
    "constraint_func = 0\n",
    "for v in range(n_cells):\n",
    "    constraint_func += Constraint((sum(x[v, c] for c in range(n_frequencies)) - 1)**2, label=f\"cell_visited_{v}\")\n",
    "\n",
    "# Construct the final Hamiltonian 'H' by adding the objective_func\n",
    "# and the constraint_func (multiplied by the penalty 'P').\n",
    "H = objective_func + P * constraint_func"
   ]
  },
  {
   "cell_type": "markdown",
   "metadata": {},
   "source": [
    "### 3.4 The Final Hamiltonian\n",
    "\n",
    "Now we combine the objective and the constraint into our final model. The solver's goal will be to find an assignment that minimizes this total value. A perfect solution will have an energy of 0.\n",
    "\n",
    "**Your task is to combine the objective and constraint.**"
   ]
  },
  {
   "cell_type": "code",
   "execution_count": null,
   "metadata": {},
   "outputs": [],
   "source": [
    "# --- Your code goes here --- #\n",
    "# Construct the final Hamiltonian 'H' by adding the objective_func\n",
    "# and the constraint_func (multiplied by the penalty 'P').\n",
    "H = # ..."
   ]
  },
  {
   "cell_type": "markdown",
   "metadata": {},
   "source": [
    "## Step 4: Compile and Solve the QUBO\n",
    "\n",
    "With our Hamiltonian defined, we compile it into a QUBO matrix and send it to the simulated annealer to solve.\n",
    "\n",
    "**Your task is to complete the solving process.**"
   ]
  },
  {
   "cell_type": "code",
   "execution_count": null,
   "metadata": {},
   "outputs": [],
   "source": [
    "# --- Your code goes here --- #\n",
    "\n",
    "# 1. Compile the model 'H'\n",
    "model = # ...\n",
    "\n",
    "# 2. Define the penalty value in a feed_dict.\n",
    "# A value of 2.0 is a good starting point.\n",
    "feed_dict = # ...\n",
    "\n",
    "# 3. Convert the compiled model to a QUBO dictionary\n",
    "qubo, offset = # ...\n",
    "\n",
    "# 4. Create a sampler and solve the QUBO\n",
    "sampler = # ...\n",
    "sampleset = # ...\n",
    "\n",
    "# 5. Decode the best solution found\n",
    "decoded_sample = # ...\n",
    "\n",
    "print(f\"Solver finished. Lowest energy found: {decoded_sample.energy}\")"
   ]
  },
  {
   "cell_type": "markdown",
   "metadata": {},
   "source": [
    "## Step 5: Interpret and Visualize the Solution\n",
    "\n",
    "Finally, we parse the solver's output to determine the frequency for each cell and check if our solution is valid.\n",
    "\n",
    "**Your task is to write the code to interpret the solution.**"
   ]
  },
  {
   "cell_type": "code",
   "execution_count": null,
   "metadata": {},
   "outputs": [],
   "source": [
    "# --- Your code goes here --- #\n",
    "\n",
    "# Check for broken constraints in the decoded_sample.\n",
    "# If there are no broken constraints:\n",
    "#  1. Create an empty dictionary called 'solution'.\n",
    "#  2. Loop through cells and frequencies to find which x[v, c] is 1.\n",
    "#  3. Populate the 'solution' dictionary with the cell name and assigned frequency.\n",
    "#  4. Print the assignments.\n",
    "#  5. Call plot_network(G, solution) to see your result!\n",
    "#\n",
    "# If there are broken constraints, print an error message."
   ]
  }
 ],
 "metadata": {
  "kernelspec": {
   "display_name": "Python 3",
   "language": "python",
   "name": "python3"
  },
  "language_info": {
   "codemirror_mode": {
    "name": "ipython",
    "version": 3
   },
   "file_extension": ".py",
   "mimetype": "text/x-python",
   "name": "python",
   "nbconvert_exporter": "python",
   "pygments_lexer": "ipython3",
   "version": "3.7.6"
  }
 },
 "nbformat": 4,
 "nbformat_minor": 4
}

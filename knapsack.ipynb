{
 "cells": [
  {
   "cell_type": "markdown",
   "metadata": {},
   "source": [
    "# Workshop Part 3: Solving the Knapsack Problem with QUBO\n",
    "\n",
    "Welcome to the final hands-on exercise! We will now tackle another classic optimization problem: the **Knapsack Problem**, framed as a harbor logistics challenge.\n",
    "\n",
    "### The Problem\n",
    "Imagine you are a harbor logistics planner. A cargo ship is ready for departure, and to maintain stability and balance, it must be loaded with a specific **exact total weight**. You have a set of available shipping containers, each with its own **weight** (in tons) and a **shipping value** (representing its priority).\n",
    "\n",
    "Your goal is to select the combination of containers that **maximizes the total shipping value** while ensuring the **total weight of the cargo is exactly equal** to the ship's target tonnage.\n",
    "\n",
    "This is a simplified version of the Knapsack problem where we must hit the capacity exactly."
   ]
  },
  {
   "cell_type": "markdown",
   "metadata": {},
   "source": [
    "## Step 1: Setup and Dependencies\n",
    "\n",
    "First, we import the necessary libraries. We'll use `matplotlib.patches` to help draw our containers."
   ]
  },
  {
   "cell_type": "code",
   "execution_count": 1,
   "metadata": {},
   "outputs": [
    {
     "name": "stdout",
     "output_type": "stream",
     "text": [
      "Libraries imported successfully!\n"
     ]
    }
   ],
   "source": [
    "# Core scientific computing and plotting libraries\n",
    "import numpy as np\n",
    "import matplotlib.pyplot as plt\n",
    "from matplotlib.patches import Rectangle\n",
    "\n",
    "# pyqubo for building the QUBO model\n",
    "from pyqubo import Array, Constraint, Placeholder\n",
    "\n",
    "# neal for the simulated annealing solver\n",
    "import neal\n",
    "\n",
    "print(\"Libraries imported successfully!\")"
   ]
  },
  {
   "cell_type": "markdown",
   "metadata": {},
   "source": [
    "## Step 2: Problem Definition\n",
    "\n",
    "Let's define our available containers and the ship's target tonnage. We've chosen a `target_tonnage` that is achievable by summing up a subset of the container weights."
   ]
  },
  {
   "cell_type": "code",
   "execution_count": 2,
   "metadata": {},
   "outputs": [
    {
     "name": "stdout",
     "output_type": "stream",
     "text": [
      "Problem defined for 5 containers with a target tonnage of 10 tons.\n"
     ]
    }
   ],
   "source": [
    "# Define the containers with their weight (in tons) and shipping value\n",
    "containers = {\n",
    "    'Automotive':    {'weight': 8, 'value': 15},\n",
    "    'Chemicals':     {'weight': 5, 'value': 9},\n",
    "    'Electronics':   {'weight': 3, 'value': 7},\n",
    "    'Textiles':      {'weight': 4, 'value': 8},\n",
    "    'Produce':       {'weight': 2, 'value': 4}\n",
    "}\n",
    "\n",
    "# The ship has a fixed weight capacity that we must fill exactly\n",
    "target_tonnage = 10\n",
    "\n",
    "container_names = list(containers.keys())\n",
    "n_containers = len(container_names)\n",
    "\n",
    "weights = [containers[c]['weight'] for c in container_names]\n",
    "values = [containers[c]['value'] for c in container_names]\n",
    "\n",
    "print(f\"Problem defined for {n_containers} containers with a target tonnage of {target_tonnage} tons.\")"
   ]
  },
  {
   "cell_type": "markdown",
   "metadata": {},
   "source": [
    "## Step 3: QUBO Formulation\n",
    "\n",
    "Now we translate the problem into a QUBO model. This involves defining our binary variables, the objective function, and the constraint."
   ]
  },
  {
   "cell_type": "markdown",
   "metadata": {},
   "source": [
    "### 3.1 Decision Variables\n",
    "\n",
    "We need a binary variable $x_{i}$ for each container:\n",
    "- **1** if we load container `i` onto the ship\n",
    "- **0** if we do not load container `i`\n",
    "\n",
    "**Your task is to create this array of variables.**"
   ]
  },
  {
   "cell_type": "code",
   "execution_count": null,
   "metadata": {},
   "outputs": [],
   "source": [
    "# --- Your code goes here --- #\n",
    "# Create a 1D array of binary variables called 'x'.\n",
    "# It should have a shape equal to the number of containers (n_containers).\n",
    "x = # ..."
   ]
  },
  {
   "cell_type": "markdown",
   "metadata": {},
   "source": [
    "### 3.2 The Objective Function\n",
    "\n",
    "Our goal is to **maximize** the total shipping value. However, QUBO solvers are designed to **minimize** a function. We can easily switch from maximization to minimization by minimizing the *negative* of our value function.\n",
    "\n",
    "**Your task is to build this objective function.**"
   ]
  },
  {
   "cell_type": "code",
   "execution_count": null,
   "metadata": {},
   "outputs": [],
   "source": [
    "# --- Your code goes here --- #\n",
    "# Create a variable 'objective_func'.\n",
    "# Calculate the sum of (value * x) for each container.\n",
    "# Remember to make the whole expression negative to maximize the value.\n",
    "objective_func = # ..."
   ]
  },
  {
   "cell_type": "markdown",
   "metadata": {},
   "source": [
    "### 3.3 The Constraint\n",
    "\n",
    "We have one strict rule: **The total weight of the loaded containers must be exactly equal to the target tonnage.**\n",
    "\n",
    "We model this with a penalty term. The sum of the weights of the chosen containers must equal the `target_tonnage`.\n",
    "\n",
    "**Your task is to build this constraint function.**"
   ]
  },
  {
   "cell_type": "code",
   "execution_count": null,
   "metadata": {},
   "outputs": [],
   "source": [
    "# Use a Placeholder for the penalty weight\n",
    "P = Placeholder(\"penalty_weight\")\n",
    "\n",
    "# --- Your code goes here --- #\n",
    "# Create a variable 'constraint_func'.\n",
    "# It should be a Constraint that penalizes the difference between the sum of selected weights\n",
    "# and the target_tonnage.\n",
    "constraint_func = # ..."
   ]
  },
  {
   "cell_type": "markdown",
   "metadata": {},
   "source": [
    "### 3.4 The Final Hamiltonian\n",
    "\n",
    "Now we combine the objective and the constraint into our final model.\n",
    "\n",
    "**Your task is to combine the objective and constraint.**"
   ]
  },
  {
   "cell_type": "code",
   "execution_count": null,
   "metadata": {},
   "outputs": [],
   "source": [
    "# --- Your code goes here --- #\n",
    "# Construct the final Hamiltonian 'H' by adding the objective_func\n",
    "# and the constraint_func (multiplied by the penalty 'P').\n",
    "H = # ..."
   ]
  },
  {
   "cell_type": "markdown",
   "metadata": {},
   "source": [
    "## Step 4: Compile and Solve the QUBO\n",
    "\n",
    "With our Hamiltonian defined, we compile it into a QUBO matrix and send it to the simulated annealer to solve.\n",
    "\n",
    "**Your task is to complete the solving process.**"
   ]
  },
  {
   "cell_type": "code",
   "execution_count": null,
   "metadata": {},
   "outputs": [],
   "source": [
    "# --- Your code goes here --- #\n",
    "\n",
    "# 1. Compile the model 'H'\n",
    "model = # ...\n",
    "\n",
    "# 2. Define the penalty value in a feed_dict.\n",
    "# A value of 1.0 is a good starting point.\n",
    "feed_dict = # ...\n",
    "\n",
    "# 3. Convert the compiled model to a QUBO dictionary\n",
    "qubo, offset = # ...\n",
    "\n",
    "# 4. Create a sampler and solve the QUBO\n",
    "sampler = # ...\n",
    "sampleset = # ...\n",
    "\n",
    "# 5. Decode the best solution found\n",
    "decoded_sample = # ...\n",
    "\n",
    "print(f\"Solver finished. Lowest energy found: {decoded_sample.energy}\")"
   ]
  },
  {
   "cell_type": "markdown",
   "metadata": {},
   "source": [
    "## Step 5: Interpret and Visualize the Solution\n",
    "\n",
    "Finally, we parse the solver's output to determine which containers to load onto the ship and visualize the result.\n",
    "\n",
    "**Your task is to write the code to interpret and visualize the solution.**"
   ]
  },
  {
   "cell_type": "code",
   "execution_count": null,
   "metadata": {},
   "outputs": [],
   "source": [
    "def plot_ship_loading(all_containers, selected_containers):\n",
    "    \"\"\"Visualizes the container loading solution.\"\"\"\n",
    "    fig, ax = plt.subplots(1, 2, figsize=(16, 6))\n",
    "    \n",
    "    # --- Plot 1: Available Containers ---\n",
    "    ax[0].set_title('Available Containers at Harbor', fontsize=14)\n",
    "    ax[0].set_xlim(0, 10)\n",
    "    ax[0].set_ylim(0, 10)\n",
    "    ax[0].set_xticks([])\n",
    "    ax[0].set_yticks([])\n",
    "    y_pos = 8.5\n",
    "    for name, data in all_containers.items():\n",
    "        ax[0].add_patch(Rectangle((1, y_pos - 1), 2, 1.5, facecolor='skyblue'))\n",
    "        text = f\"{name}\\nValue: {data['value']}\\nWeight: {data['weight']}t\"\n",
    "        ax[0].text(4, y_pos, text, va='center', fontsize=10)\n",
    "        y_pos -= 2\n",
    "        \n",
    "    # --- Plot 2: Loaded Ship ---\n",
    "    ax[1].set_title('Optimal Cargo Loaded on Ship', fontsize=14)\n",
    "    ax[1].set_xlim(0, 10)\n",
    "    ax[1].set_ylim(0, 10)\n",
    "    ax[1].set_xticks([])\n",
    "    ax[1].set_yticks([])\n",
    "    \n",
    "    # Draw ship hull\n",
    "    ax[1].add_patch(plt.Polygon([[1, 1], [9, 1], [8, 4], [2, 4]], closed=True, color='gray'))\n",
    "    ax[1].text(5, 2.5, 'CARGO SHIP', ha='center', color='white', weight='bold')\n",
    "\n",
    "    # Draw loaded containers\n",
    "    x_pos = 2.2\n",
    "    for name in selected_containers:\n",
    "        ax[1].add_patch(Rectangle((x_pos, 4), 1, 1.5, facecolor='gold', edgecolor='black'))\n",
    "        ax[1].text(x_pos + 0.5, 4.75, name[:4], ha='center', va='center', fontsize=8, weight='bold')\n",
    "        x_pos += 1.2\n",
    "\n",
    "    plt.show()\n",
    "\n",
    "# --- Your code goes here --- #\n",
    "\n",
    "# Check for broken constraints in the decoded_sample.\n",
    "# If there are no broken constraints:\n",
    "#  1. Create an empty list called 'selected_containers'.\n",
    "#  2. Loop through the containers to find which x[i] is 1.\n",
    "#  3. Populate the list with the names of the selected containers.\n",
    "#  4. Print the results (the names, total value, and total weight).\n",
    "#  5. Call plot_ship_loading(containers, selected_containers) to see your result!\n",
    "#\n",
    "# If there are broken constraints, print an error message."
   ]
  }
 ],
 "metadata": {
  "kernelspec": {
   "display_name": "venv",
   "language": "python",
   "name": "python3"
  },
  "language_info": {
   "codemirror_mode": {
    "name": "ipython",
    "version": 3
   },
   "file_extension": ".py",
   "mimetype": "text/x-python",
   "name": "python",
   "nbconvert_exporter": "python",
   "pygments_lexer": "ipython3",
   "version": "3.9.13"
  }
 },
 "nbformat": 4,
 "nbformat_minor": 4
}

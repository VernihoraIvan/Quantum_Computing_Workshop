{
 "cells": [
  {
   "cell_type": "markdown",
   "metadata": {},
   "source": [
    "# Workshop: Solving the Traveling Salesperson Problem with Quantum-Inspired Optimization (QUBO)\n",
    "\n",
    "In this notebook, we'll walk through the process of solving a classic combinatorial optimization problem—the Traveling Salesperson Problem (TSP)—using a quantum-inspired approach.\n",
    "\n",
    "As discussed in the presentation (slides 12-18), the core idea is to:\n",
    "1.  **Describe the problem** mathematically.\n",
    "2.  **Formulate it as a QUBO** (Quadratic Unconstrained Binary Optimization) model.\n",
    "3.  **Use a solver** to find the minimum energy state of the model, which corresponds to the optimal solution.\n",
    "4.  **Interpret the results** to find our answer.\n",
    "\n",
    "We will use classical Python libraries (`pyqubo` and `neal`) that are designed to build and solve these models efficiently."
   ]
  },
  {
   "cell_type": "markdown",
   "metadata": {},
   "source": [
    "## Step 1: Setup and Dependencies\n",
    "\n",
    "First, we need to import the necessary libraries.\n",
    "- `numpy` is for numerical operations, especially for our distance matrix.\n",
    "- `matplotlib.pyplot` is for visualizing our cities and the final solution path.\n",
    "- `pyqubo` is the core library we'll use to create our QUBO model in an intuitive, symbolic way.\n",
    "- `neal` provides the Simulated Annealing sampler, a powerful classical algorithm that is excellent for solving QUBO problems."
   ]
  },
  {
   "cell_type": "code",
   "execution_count": 1,
   "metadata": {},
   "outputs": [
    {
     "name": "stdout",
     "output_type": "stream",
     "text": [
      "Libraries imported successfully!\n"
     ]
    }
   ],
   "source": [
    "# Core scientific computing and plotting libraries\n",
    "import numpy as np\n",
    "import matplotlib.pyplot as plt\n",
    "\n",
    "# pyqubo for building the QUBO model\n",
    "from pyqubo import Array, Constraint, Placeholder\n",
    "\n",
    "# neal for the simulated annealing solver\n",
    "import neal\n",
    "\n",
    "print(\"Libraries imported successfully!\")"
   ]
  },
  {
   "cell_type": "markdown",
   "metadata": {},
   "source": [
    "## Step 2: Problem Definition\n",
    "\n",
    "The **Traveling Salesperson Problem (TSP)** asks: \"Given a list of cities and the distances between each pair of cities, what is the shortest possible route that visits each city exactly once and returns to the origin city?\"\n",
    "\n",
    "This is a famously difficult (NP-hard) problem. For our workshop, we will solve it for 5 European capitals."
   ]
  },
  {
   "cell_type": "code",
   "execution_count": 2,
   "metadata": {},
   "outputs": [
    {
     "name": "stdout",
     "output_type": "stream",
     "text": [
      "Problem defined for 5 cities.\n"
     ]
    }
   ],
   "source": [
    "# Define our list of cities\n",
    "cities = ['Berlin', 'Paris', 'Rome', 'Madrid', 'Warsaw']\n",
    "n_cities = len(cities)\n",
    "\n",
    "# Create a distance matrix (symmetric) with approximate road distances in km\n",
    "dist_matrix = np.array([\n",
    "    # BER   PAR    ROM    MAD    WAR\n",
    "    [0,    1054,  1501,  2309,  574],   # Berlin\n",
    "    [1054, 0,     1420,  1276,  1619],  # Paris\n",
    "    [1501, 1420,  0,     1970,  1837],  # Rome\n",
    "    [2309, 1276,  1970,  0,     3281],  # Madrid\n",
    "    [574,  1619,  1837,  3281,  0]     # Warsaw\n",
    "])\n",
    "\n",
    "# We also define coordinates for plotting to make the map look nice\n",
    "coords = {\n",
    "    'Berlin': [0.6, 0.9],\n",
    "    'Paris': [0.1, 0.7],\n",
    "    'Rome': [0.4, 0.2],\n",
    "    'Madrid': [-0.2, 0.1],\n",
    "    'Warsaw': [1.0, 0.8]\n",
    "}\n",
    "city_coords = np.array([coords[city] for city in cities])\n",
    "\n",
    "print(f\"Problem defined for {n_cities} cities.\")"
   ]
  },
  {
   "cell_type": "markdown",
   "metadata": {},
   "source": [
    "### Visualizing the Cities\n",
    "\n",
    "Let's create a helper function to plot the cities on a 2D map. This will help us visualize the problem and later, the solution."
   ]
  },
  {
   "cell_type": "code",
   "execution_count": 3,
   "metadata": {},
   "outputs": [
    {
     "data": {
      "image/png": "[encoded data removed]",
      "text/plain": [
       "<Figure size 800x600 with 1 Axes>"
      ]
     },
     "metadata": {},
     "output_type": "display_data"
    }
   ],
   "source": [
    "def plot_tour(coordinates, city_names, path=None):\n",
    "    \"\"\"Helper function to plot the cities and the tour.\"\"\"\n",
    "    plt.figure(figsize=(8, 6))\n",
    "    \n",
    "    # Plot cities as blue dots\n",
    "    plt.scatter(coordinates[:, 0], coordinates[:, 1], s=200, c='blue', zorder=3)\n",
    "    \n",
    "    # Label cities\n",
    "    for i, city in enumerate(city_names):\n",
    "        plt.text(coordinates[i, 0], coordinates[i, 1] + 0.05, city, ha='center', fontsize=12)\n",
    "    \n",
    "    # Plot the tour path if a solution is provided\n",
    "    if path:\n",
    "        # Close the loop by adding the start city to the end\n",
    "        path_full = path + [path[0]]\n",
    "        for i in range(len(path_full) - 1):\n",
    "            start_node = path_full[i]\n",
    "            end_node = path_full[i+1]\n",
    "            plt.plot([coordinates[start_node, 0], coordinates[end_node, 0]],\n",
    "                     [coordinates[start_node, 1], coordinates[end_node, 1]], 'r-')\n",
    "        plt.title(\"TSP Solution Path\")\n",
    "    else:\n",
    "        plt.title(\"City Locations\")\n",
    "    \n",
    "    plt.xticks([])\n",
    "    plt.yticks([])\n",
    "    plt.show()\n",
    "\n",
    "# Plot the initial problem\n",
    "plot_tour(city_coords, cities)"
   ]
  },
  {
   "cell_type": "markdown",
   "metadata": {},
   "source": [
    "## Step 3: QUBO Formulation\n",
    "\n",
    "This is the most important part. We need to translate the TSP into the language of QUBO. A QUBO model consists of an **objective function** and **constraints**.\n",
    "\n",
    "$$H = H_{objective} + H_{constraints}$$"
   ]
  },
  {
   "cell_type": "markdown",
   "metadata": {},
   "source": [
    "### 3.1 Decision Variables\n",
    "\n",
    "First, we define our binary decision variables. As shown on slide 16, we use a variable $x_{i,j}$ which is:\n",
    "- **1** if the salesperson visits city `i` at tour step `j`\n",
    "- **0** otherwise\n",
    "\n",
    "Since we have 5 cities and 5 steps in the tour (0, 1, 2, 3, 4), we will need $5 \\times 5 = 25$ binary variables. `pyqubo` makes this easy to create."
   ]
  },
  {
   "cell_type": "code",
   "execution_count": 4,
   "metadata": {},
   "outputs": [],
   "source": [
    "# Create a 2D array of binary variables x_i,j\n",
    "x = Array.create('x', (n_cities, n_cities), 'BINARY')"
   ]
  },
  {
   "cell_type": "markdown",
   "metadata": {},
   "source": [
    "### 3.2 The Objective Function\n",
    "\n",
    "Our goal is to **minimize the total distance** of the tour. The distance of the tour is the sum of distances between consecutive cities in the path.\n",
    "\n",
    "Mathematically, this is expressed as:\n",
    "$$ H_{objective} = \\sum_{k=0}^{N-1} \\sum_{i=0}^{N-1} \\sum_{j=0}^{N-1} c_{ij} \\cdot x_{i,k} \\cdot x_{j, k+1} $$\n",
    "\n",
    "This formula adds the distance $c_{ij}$ (from city `i` to city `j`) to the total cost *if* we visit city `i` at step `k` AND we visit city `j` at step `k+1`."
   ]
  },
  {
   "cell_type": "code",
   "execution_count": null,
   "metadata": {},
   "outputs": [],
   "source": [
    "# Objective function: Sum of distances for the selected path\n",
    "objective_func = 0\n",
    "for k in range(n_cities):\n",
    "    for i in range(n_cities):\n",
    "        for j in range(n_cities):\n",
    "            # The modulo operator % n_cities handles the return trip from the last city to the first\n",
    "            objective_func += dist_matrix[i, j] * x[i, k] * x[j, (k + 1) % n_cities]\n",
    "\n",
    "print(\"Objective function created.\")"
   ]
  },
  {
   "cell_type": "markdown",
   "metadata": {},
   "source": [
    "### 3.3 The Constraints\n",
    "\n",
    "The objective function alone is not enough. We need to enforce the rules of the TSP. We do this by adding **penalty terms** to our Hamiltonian. If a rule is broken, the penalty term will add a large value to the total energy, so the solver will learn to avoid breaking the rules.\n",
    "\n",
    "As on slide 17, we have two constraints:\n",
    "1.  **Each city must be visited exactly once.** For each city `i`, the sum of $x_{i,j}$ over all steps `j` must be equal to 1.\n",
    "    - Penalty: $ P \\cdot (\\sum_{k=0}^{N-1} x_{i,j} - 1)^2 $\n",
    "2.  **At each step, exactly one city must be visited.** For each step `j`, the sum of $x_{i,j}$ over all cities `i` must be equal to 1.\n",
    "    - Penalty: $ P \\cdot (\\sum_{i=0}^{N-1} x_{i,j} - 1)^2 $\n",
    "\n",
    "The term $P$ is a large number called the penalty weight. It must be chosen carefully: large enough to enforce the constraints, but not so large that it completely dominates the objective function (see slide 19)."
   ]
  },
  {
   "cell_type": "code",
   "execution_count": null,
   "metadata": {},
   "outputs": [],
   "source": [
    "# We use a Placeholder for the penalty weight. This lets us set the value at compile time.\n",
    "P = Placeholder(\"penalty_weight\")\n",
    "\n",
    "# Constraint 1: Each city must be visited exactly once.\n",
    "constraint_city = 0\n",
    "for i in range(n_cities):\n",
    "    # The sum of x_i,k over all steps k should be 1\n",
    "    constraint_city += Constraint((sum(x[i, k] for k in range(n_cities)) - 1)**2, label=f\"city_visited_{i}\")\n",
    "\n",
    "# Constraint 2: At each step, exactly one city is visited.\n",
    "constraint_step = 0\n",
    "for k in range(n_cities):\n",
    "    # The sum of x_i,k over all cities i should be 1\n",
    "    constraint_step += Constraint((sum(x[i, k] for i in range(n_cities)) - 1)**2, label=f\"city_visited_at_step_{k}\")\n",
    "    \n",
    "# Construct the final Hamiltonian\n",
    "H = objective_func + P * (constraint_city + constraint_step)\n",
    "\n",
    "print(\"Final Hamiltonian constructed.\")"
   ]
  },
  {
   "cell_type": "markdown",
   "metadata": {},
   "source": []
  },
  {
   "cell_type": "code",
   "execution_count": null,
   "metadata": {},
   "outputs": [],
   "source": []
  },
  {
   "cell_type": "markdown",
   "metadata": {},
   "source": [
    "## Step 4: Compile and Solve the QUBO\n",
    "\n",
    "With our Hamiltonian defined, we can now:\n",
    "1.  **Compile** the model. This converts our symbolic expression into a numerical QUBO matrix.\n",
    "2.  **Define the penalty value**. A good rule of thumb is to set it to be larger than the maximum possible tour distance.\n",
    "3.  **Send it to the solver**. The `neal` sampler will attempt to find the assignment of 0s and 1s to our `x` variables that results in the lowest value for `H`."
   ]
  },
  {
   "cell_type": "code",
   "execution_count": null,
   "metadata": {},
   "outputs": [],
   "source": [
    "# 1. Compile the model\n",
    "model = H.compile()\n",
    "\n",
    "# 2. Define the penalty value. The longest possible path is roughly the sum of the 4 longest edges.\n",
    "# A value like 4000 should be safely larger than any possible tour distance.\n",
    "feed_dict = {'penalty_weight': 4000.0}\n",
    "\n",
    "# 3. Convert the compiled model to a QUBO dictionary\n",
    "qubo, offset = model.to_qubo(feed_dict=feed_dict)\n",
    "\n",
    "# 4. Solve the QUBO with the simulated annealer\n",
    "sampler = neal.SimulatedAnnealingSampler()\n",
    "# num_reads is the number of times the annealer will run. More reads increase the chance of finding the optimal solution.\n",
    "sampleset = sampler.sample_qubo(qubo, num_reads=100)\n",
    "\n",
    "# 5. Decode the best solution found\n",
    "decoded_sample = model.decode_sample(sampleset.first.sample, vartype='BINARY', feed_dict=feed_dict)\n",
    "\n",
    "print(\"Solver has finished.\")"
   ]
  },
  {
   "cell_type": "markdown",
   "metadata": {},
   "source": [
    "## Step 5: Interpret and Visualize the Solution\n",
    "\n",
    "The solver returns a sample with the lowest energy it found. We need to parse this sample to reconstruct the tour path and check if it's a valid solution (i.e., no constraints are broken)."
   ]
  },
  {
   "cell_type": "code",
   "execution_count": null,
   "metadata": {},
   "outputs": [],
   "source": [
    "# Check for broken constraints in the best solution\n",
    "num_broken = len(decoded_sample.constraints(only_broken=True))\n",
    "\n",
    "if num_broken > 0:\n",
    "    print(f\"Found a solution with {num_broken} broken constraints.\")\n",
    "    print(\"Try increasing the penalty_weight or running more reads.\")\n",
    "    print(decoded_sample.constraints(only_broken=True))\n",
    "else:\n",
    "    print(\"Found a valid solution with 0 broken constraints!\")\n",
    "    \n",
    "    # Reconstruct the path from the solution dictionary\n",
    "    path = [-1] * n_cities\n",
    "    for i in range(n_cities):\n",
    "        for k in range(n_cities):\n",
    "            if decoded_sample.array('x', (i, k)) == 1:\n",
    "                path[k] = i\n",
    "    \n",
    "    # Print the results\n",
    "    path_str = \" -> \".join([cities[i] for i in path])\n",
    "    print(f\"\\nOptimal path found: {path_str} -> {cities[path[0]]}\")\n",
    "    \n",
    "    # Calculate total distance\n",
    "    total_dist = sum(dist_matrix[path[k], path[(k + 1) % n_cities]] for k in range(n_cities))\n",
    "    print(f\"Total distance: {total_dist:.2f} km\")\n",
    "    \n",
    "    # Plot the final tour\n",
    "    plot_tour(city_coords, cities, path)"
   ]
  }
 ],
 "metadata": {
  "kernelspec": {
   "display_name": "venv",
   "language": "python",
   "name": "python3"
  },
  "language_info": {
   "codemirror_mode": {
    "name": "ipython",
    "version": 3
   },
   "file_extension": ".py",
   "mimetype": "text/x-python",
   "name": "python",
   "nbconvert_exporter": "python",
   "pygments_lexer": "ipython3",
   "version": "3.9.13"
  }
 },
 "nbformat": 4,
 "nbformat_minor": 4
}
